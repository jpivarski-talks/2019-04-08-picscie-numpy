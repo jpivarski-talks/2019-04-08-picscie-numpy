{
 "cells": [
  {
   "cell_type": "markdown",
   "metadata": {},
   "source": [
    "<br><br><br><br><br>\n",
    "\n",
    "# More stuff!\n",
    "\n",
    "(Based on requests from yesterday.)\n",
    "\n",
    "<br><br><br><br><br>"
   ]
  },
  {
   "cell_type": "markdown",
   "metadata": {},
   "source": [
    "### NumExpr\n",
    "\n",
    "For \"flat\" expressions, like ufuncs, but can do many operations in one pass.\n",
    "\n",
    "<center><img src=\"img/flat.png\" width=\"25%\"></center>\n",
    "\n",
    "NumExpr compiles a limited set of expressions (mathematical formulae, no loops) for its own virtual machine. (Being a much simpler virtual machine than Python's, it can be evaluated more quickly.)\n",
    "\n",
    "<br>\n",
    "\n",
    "If you have Pandas installed, you have NumExpr. Pandas uses NumExpr when `apply` is given an expression in a string.\n",
    "\n",
    "<br>\n",
    "\n",
    "**Note:** I didn't find any documentation that says you can turn NumExpr expressions into ufuncs. (Shocking!) The author is working on NumExpr 3: I'll suggest it."
   ]
  },
  {
   "cell_type": "code",
   "execution_count": 28,
   "metadata": {},
   "outputs": [
    {
     "name": "stdout",
     "output_type": "stream",
     "text": [
      "True\n"
     ]
    }
   ],
   "source": [
    "import numpy, numexpr\n",
    "\n",
    "a = numpy.random.uniform(5, 10, 1000000)\n",
    "b = numpy.random.uniform(10, 20, 1000000)\n",
    "c = numpy.random.uniform(-0.1, 0.1, 1000000)\n",
    "\n",
    "roots1 = (-b + numpy.sqrt(b**2 - 4*a*c)) / (2*a)\n",
    "\n",
    "roots2 = numexpr.evaluate(\"(-b + sqrt(b**2 - 4*a*c)) / (2*a)\")   # how does it know a, b, c?\n",
    "\n",
    "roots2 = numexpr.evaluate(\"(-b + sqrt(b**2 - 4*a*c)) / (2*a)\", global_dict={\"a\": a, \"b\": b, \"c\": c})\n",
    "\n",
    "roots2 = numexpr.evaluate(\"(-b + sqrt(b**2 - 4*a*c)) / (2*a)\", global_dict=globals())\n",
    "\n",
    "print((roots1 == roots2).all())"
   ]
  },
  {
   "cell_type": "code",
   "execution_count": 9,
   "metadata": {},
   "outputs": [
    {
     "name": "stdout",
     "output_type": "stream",
     "text": [
      "12 ms ± 64.4 µs per loop (mean ± std. dev. of 7 runs, 100 loops each)\n"
     ]
    }
   ],
   "source": [
    "%%timeit\n",
    "\n",
    "roots1 = (-b + numpy.sqrt(b**2 - 4*a*c)) / (2*a)"
   ]
  },
  {
   "cell_type": "code",
   "execution_count": 10,
   "metadata": {},
   "outputs": [
    {
     "name": "stdout",
     "output_type": "stream",
     "text": [
      "1.83 ms ± 31.5 µs per loop (mean ± std. dev. of 7 runs, 1000 loops each)\n"
     ]
    }
   ],
   "source": [
    "%%timeit\n",
    "\n",
    "roots2 = numexpr.evaluate(\"(-b + sqrt(b**2 - 4*a*c)) / (2*a)\")"
   ]
  },
  {
   "cell_type": "code",
   "execution_count": 33,
   "metadata": {},
   "outputs": [
    {
     "name": "stdout",
     "output_type": "stream",
     "text": [
      "True\n"
     ]
    }
   ],
   "source": [
    "import numba\n",
    "\n",
    "@numba.jit(nopython=True)\n",
    "def roots_numba(a, b, c):\n",
    "    out = numpy.empty_like(a)\n",
    "    for i in range(len(a)):\n",
    "        out[i] = (-b[i] + numpy.sqrt(b[i]**2 - 4*a[i]*c[i])) / (2*a[i])\n",
    "    return out\n",
    "\n",
    "roots3 = roots_numba(a, b, c)\n",
    "\n",
    "print(numpy.allclose(roots1, roots3))"
   ]
  },
  {
   "cell_type": "code",
   "execution_count": 34,
   "metadata": {},
   "outputs": [
    {
     "name": "stdout",
     "output_type": "stream",
     "text": [
      "2.62 ms ± 24.3 µs per loop (mean ± std. dev. of 7 runs, 100 loops each)\n"
     ]
    }
   ],
   "source": [
    "%%timeit\n",
    "\n",
    "roots3 = roots_numba(a, b, c)"
   ]
  },
  {
   "cell_type": "code",
   "execution_count": 35,
   "metadata": {},
   "outputs": [
    {
     "name": "stdout",
     "output_type": "stream",
     "text": [
      "True\n"
     ]
    }
   ],
   "source": [
    "import numba\n",
    "\n",
    "@numba.jit(nopython=True, fastmath=True)\n",
    "def roots_numba(a, b, c):\n",
    "    out = numpy.empty_like(a)\n",
    "    for i in range(len(a)):\n",
    "        out[i] = (-b[i] + numpy.sqrt(b[i]**2 - 4*a[i]*c[i])) / (2*a[i])\n",
    "    return out\n",
    "\n",
    "roots3 = roots_numba(a, b, c)\n",
    "\n",
    "print(numpy.allclose(roots1, roots3))"
   ]
  },
  {
   "cell_type": "code",
   "execution_count": 37,
   "metadata": {},
   "outputs": [
    {
     "name": "stdout",
     "output_type": "stream",
     "text": [
      "2.62 ms ± 28.2 µs per loop (mean ± std. dev. of 7 runs, 100 loops each)\n"
     ]
    }
   ],
   "source": [
    "%%timeit\n",
    "\n",
    "roots3 = roots_numba(a, b, c)"
   ]
  }
 ],
 "metadata": {
  "kernelspec": {
   "display_name": "Python 3",
   "language": "python",
   "name": "python3"
  },
  "language_info": {
   "codemirror_mode": {
    "name": "ipython",
    "version": 3
   },
   "file_extension": ".py",
   "mimetype": "text/x-python",
   "name": "python",
   "nbconvert_exporter": "python",
   "pygments_lexer": "ipython3",
   "version": "3.7.2"
  }
 },
 "nbformat": 4,
 "nbformat_minor": 2
}
