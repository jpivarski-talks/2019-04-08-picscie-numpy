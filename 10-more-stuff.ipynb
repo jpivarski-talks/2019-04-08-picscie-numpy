{
 "cells": [
  {
   "cell_type": "markdown",
   "metadata": {},
   "source": [
    "<br><br><br><br><br>\n",
    "\n",
    "# More stuff!\n",
    "\n",
    "(Based on requests from yesterday.)\n",
    "\n",
    "<br><br><br><br><br>"
   ]
  },
  {
   "cell_type": "markdown",
   "metadata": {},
   "source": [
    "### NumExpr\n",
    "\n",
    "For \"flat\" expressions, like ufuncs, but can do many operations in one pass.\n",
    "\n",
    "<center><img src=\"img/flat.png\" width=\"25%\"></center>\n",
    "\n",
    "NumExpr compiles a limited set of expressions (mathematical formulae, no loops) for its own virtual machine. (Being a much simpler virtual machine than Python's, it can be evaluated more quickly.)\n",
    "\n",
    "<br>\n",
    "\n",
    "If you have Pandas installed, you have NumExpr. Pandas uses NumExpr when `apply` is given an expression in a string.\n",
    "\n",
    "<br>\n",
    "\n",
    "**Note:** I didn't find any documentation that says you can turn NumExpr expressions into ufuncs. (Shocking!) The author is working on NumExpr 3: I'll suggest it."
   ]
  },
  {
   "cell_type": "code",
   "execution_count": null,
   "metadata": {},
   "outputs": [],
   "source": [
    "import numpy, numexpr\n",
    "\n",
    "a = numpy.random.uniform(5, 10, 1000000)\n",
    "b = numpy.random.uniform(10, 20, 1000000)\n",
    "c = numpy.random.uniform(-0.1, 0.1, 1000000)\n",
    "\n",
    "roots1 = (-b + numpy.sqrt(b**2 - 4*a*c)) / (2*a)\n",
    "\n",
    "roots2 = numexpr.evaluate(\"(-b + sqrt(b**2 - 4*a*c)) / (2*a)\")   # how does it know a, b, c?\n",
    "\n",
    "roots2 = numexpr.evaluate(\"(-b + sqrt(b**2 - 4*a*c)) / (2*a)\", global_dict={\"a\": a, \"b\": b, \"c\": c})\n",
    "\n",
    "roots2 = numexpr.evaluate(\"(-b + sqrt(b**2 - 4*a*c)) / (2*a)\", global_dict=globals())\n",
    "\n",
    "print((roots1 == roots2).all())"
   ]
  },
  {
   "cell_type": "code",
   "execution_count": null,
   "metadata": {},
   "outputs": [],
   "source": [
    "%%timeit\n",
    "\n",
    "roots1 = (-b + numpy.sqrt(b**2 - 4*a*c)) / (2*a)"
   ]
  },
  {
   "cell_type": "code",
   "execution_count": null,
   "metadata": {},
   "outputs": [],
   "source": [
    "%%timeit\n",
    "\n",
    "roots2 = numexpr.evaluate(\"(-b + sqrt(b**2 - 4*a*c)) / (2*a)\")"
   ]
  },
  {
   "cell_type": "code",
   "execution_count": null,
   "metadata": {},
   "outputs": [],
   "source": [
    "import numba\n",
    "\n",
    "@numba.jit(nopython=True)\n",
    "def roots_numba(a, b, c):\n",
    "    out = numpy.empty_like(a)\n",
    "    for i in range(len(a)):\n",
    "        out[i] = (-b[i] + numpy.sqrt(b[i]**2 - 4*a[i]*c[i])) / (2*a[i])\n",
    "    return out\n",
    "\n",
    "roots3 = roots_numba(a, b, c)\n",
    "\n",
    "print(numpy.allclose(roots1, roots3))"
   ]
  },
  {
   "cell_type": "code",
   "execution_count": null,
   "metadata": {},
   "outputs": [],
   "source": [
    "%%timeit\n",
    "\n",
    "roots3 = roots_numba(a, b, c)"
   ]
  },
  {
   "cell_type": "code",
   "execution_count": null,
   "metadata": {},
   "outputs": [],
   "source": [
    "# Maybe fastmath=True will help? (The `-ffast-math` flag helps a lot in C/C++.)\n",
    "\n",
    "@numba.jit(nopython=True, fastmath=True)\n",
    "def roots_numba(a, b, c):\n",
    "    out = numpy.empty_like(a)\n",
    "    for i in range(len(a)):\n",
    "        out[i] = (-b[i] + numpy.sqrt(b[i]**2 - 4*a[i]*c[i])) / (2*a[i])\n",
    "    return out\n",
    "\n",
    "roots3 = roots_numba(a, b, c)\n",
    "\n",
    "print(numpy.allclose(roots1, roots3))"
   ]
  },
  {
   "cell_type": "code",
   "execution_count": null,
   "metadata": {},
   "outputs": [],
   "source": [
    "%%timeit\n",
    "\n",
    "roots3 = roots_numba(a, b, c)"
   ]
  },
  {
   "cell_type": "markdown",
   "metadata": {},
   "source": [
    "<br><br><br>\n",
    "\n",
    "So NumExpr even beats Numba (in this example, which is in NumExpr's sweet spot).\n",
    "\n",
    "   * **When to use NumExpr:** you have a complex formula composed entirely of ufuncs—all flat operations. If you've already done `from numpy import *` (bad practice), then all you need to do is surround your formula with quotes and wrap it with `numexpr.evaluate()`. Otherwise, you have to drop `numpy.` or `np.` from the beginning of each function name.\n",
    "   * **When to use Numba:** you have a more complex function to calculate than something strictly one-to-one, or your work is likely to grow that way.\n",
    "\n",
    "_Anyway,_ both are very easy to add and remove. Do whatever is easiest until it's not.\n",
    "\n",
    "<br><br><br>"
   ]
  },
  {
   "cell_type": "markdown",
   "metadata": {},
   "source": [
    "<br><br><br><br><br>\n",
    "\n",
    "# Making your own ufunc\n",
    "\n",
    "<br><br><br><br><br>"
   ]
  },
  {
   "cell_type": "markdown",
   "metadata": {},
   "source": [
    "<br><br><br>\n",
    "\n",
    "### Directly in C?\n",
    "\n",
    "I took a look at the [documentation on creating a Numpy ufunc in C](https://docs.scipy.org/doc/numpy/user/c-info.ufunc-tutorial.html), which is the standard way, and concluded that it's not for the faint of heart. If you're primarily working in C/C++, this would be the most natural way to expose your program's functionality as a Numpy ufunc, but it gets into C details I'd rather not do here.\n",
    "\n",
    "Also, it doesn't seem to be possible in pybind11. (At least, I've found no documentation for it.)\n",
    "\n",
    "<br><br><br>"
   ]
  },
  {
   "cell_type": "code",
   "execution_count": null,
   "metadata": {},
   "outputs": [],
   "source": [
    "# With Python: the Numpy library has a \"vectorize\" function, but it's not useful for speed.\n",
    "# It just runs your Python function with a ufunc-like interface.\n",
    "\n",
    "import time, math\n",
    "\n",
    "quadratic_slow = numpy.vectorize(lambda a, b, c: (-b + math.sqrt(b**2 - 4*a*c)) / (2*a))\n",
    "\n",
    "a = numpy.random.uniform(5, 10, 10000000)\n",
    "b = numpy.random.uniform(10, 20, 10000000)\n",
    "c = numpy.random.uniform(-0.1, 0.1, 10000000)\n",
    "\n",
    "starttime = time.time()\n",
    "quadratic_slow(a, b, c)\n",
    "print(\"Python time:\", time.time() - starttime)\n",
    "\n",
    "starttime = time.time()\n",
    "(-b + numpy.sqrt(b**2 - 4*a*c)) / (2*a)\n",
    "print(\"Numpy time:\", time.time() - starttime)"
   ]
  },
  {
   "cell_type": "code",
   "execution_count": null,
   "metadata": {},
   "outputs": [],
   "source": [
    "# With Numba: this was a motivating case for Numba, to create compiled ufuncs.\n",
    "\n",
    "import numba\n",
    "\n",
    "@numba.vectorize\n",
    "def quadratic(a, b, c):\n",
    "    return (-b + math.sqrt(b**2 - 4*a*c)) / (2*a)    # a, b, c are scalars; output is scalar\n",
    "\n",
    "a = numpy.random.uniform(5, 10, 1000000)\n",
    "b = numpy.random.uniform(10, 20, 1000000)\n",
    "c = numpy.random.uniform(-0.1, 0.1, 1000000)\n",
    "\n",
    "print(quadratic(a, b, c))                             # a, b, c are arrays; output is an array"
   ]
  },
  {
   "cell_type": "code",
   "execution_count": null,
   "metadata": {},
   "outputs": [],
   "source": [
    "import awkward\n",
    "\n",
    "# Now that it's a ufunc, the awkward library says, \"I know what quadratic is!\"\n",
    "\n",
    "a = awkward.fromiter([[ 5.9,  5.5,  9.7], [], [ 7.7,  5.6]])\n",
    "b = awkward.fromiter([[17.6, 14.0, 19.5], [], [15.4, 12.8]])\n",
    "c = awkward.fromiter([[ 0.8, -0.9,  1.0], [], [-1.7,  0.2]])\n",
    "\n",
    "print(quadratic(a, b, c))"
   ]
  },
  {
   "cell_type": "code",
   "execution_count": null,
   "metadata": {},
   "outputs": [],
   "source": [
    "import dask.array\n",
    "\n",
    "# Dask library says, \"I know what quadratic is!\"\n",
    "\n",
    "a = dask.array.from_array(numpy.random.uniform(5, 10, 1000000), chunks=100000)\n",
    "b = dask.array.from_array(numpy.random.uniform(10, 20, 1000000), chunks=100000)\n",
    "c = dask.array.from_array(numpy.random.uniform(-0.1, 0.1, 1000000), chunks=100000)\n",
    "\n",
    "quadratic(a, b, c)"
   ]
  },
  {
   "cell_type": "code",
   "execution_count": null,
   "metadata": {},
   "outputs": [],
   "source": [
    "((-b + numpy.sqrt(b**2 - 4*a*c)) / (2*a)).visualize()\n",
    "# quadratic(a, b, c).visualize()"
   ]
  },
  {
   "cell_type": "markdown",
   "metadata": {},
   "source": [
    "<br><br><br><br>\n",
    "\n",
    "This could be a good way to use Dask: wrap up your most complex logic in ufuncs to simplify the task graph.\n",
    "\n",
    "<br>\n",
    "\n",
    "(It should also work with Dask distributed, if the remote machine has Numba to recompile the function when it receives it, though I haven't tried that.)\n",
    "\n",
    "<br><br><br><br>"
   ]
  },
  {
   "cell_type": "code",
   "execution_count": null,
   "metadata": {},
   "outputs": [],
   "source": [
    "import cupy\n",
    "\n",
    "# CuPy tries sending it to Numba, but Numba doesn't recognize the CuPy array type.\n",
    "\n",
    "a = cupy.asarray(numpy.random.uniform(5, 10, 1000000))\n",
    "b = cupy.asarray(numpy.random.uniform(10, 20, 1000000))\n",
    "c = cupy.asarray(numpy.random.uniform(-0.1, 0.1, 1000000))\n",
    "\n",
    "quadratic(a, b, c)"
   ]
  },
  {
   "cell_type": "code",
   "execution_count": null,
   "metadata": {},
   "outputs": [],
   "source": [
    "import pandas\n",
    "\n",
    "# Pandas says, \"I know what quadratic is!\"\n",
    "\n",
    "df = pandas.DataFrame(dict(\n",
    "    a = numpy.random.uniform(5, 10, 1000000),\n",
    "    b = numpy.random.uniform(10, 20, 1000000),\n",
    "    c = numpy.random.uniform(-0.1, 0.1, 1000000)))\n",
    "\n",
    "df[\"roots\"] = quadratic(df[\"a\"], df[\"b\"], df[\"c\"])\n",
    "df"
   ]
  },
  {
   "cell_type": "markdown",
   "metadata": {},
   "source": [
    "<br><br><br><br><br>\n",
    "\n",
    "In database-speak, applying a ufunc to columns of a Pandas table is like using a UDF (user-defined function) or \"stored procedure\" in SQL.\n",
    "\n",
    "<br><br><br><br><br>"
   ]
  },
  {
   "cell_type": "markdown",
   "metadata": {},
   "source": [
    "<br><br><br><br><br>\n",
    "\n",
    "# Dask for out-of-memory analytics\n",
    "\n",
    "<br><br><br><br><br>"
   ]
  },
  {
   "cell_type": "code",
   "execution_count": null,
   "metadata": {},
   "outputs": [],
   "source": [
    "import dask.dataframe\n",
    "\n",
    "exoplanets = dask.dataframe.read_csv(\"data/nasa-exoplanets.csv\")\n",
    "exoplanets"
   ]
  },
  {
   "cell_type": "code",
   "execution_count": null,
   "metadata": {},
   "outputs": [],
   "source": [
    "# We can restructure the table without reading anything from disk.\n",
    "\n",
    "df = exoplanets[[\"ra\", \"dec\", \"st_dist\", \"st_mass\", \"st_rad\", \"pl_orbsmax\", \"pl_orbeccen\", \"pl_orbper\", \"pl_bmassj\", \"pl_radj\"]]\n",
    "df.columns = pandas.MultiIndex.from_arrays([[\"star\"] * 5 + [\"planet\"] * 5,\n",
    "    [\"right asc. (deg)\", \"declination (deg)\", \"distance (pc)\", \"mass (solar)\", \"radius (solar)\", \"orbit (AU)\", \"eccen.\", \"period (days)\", \"mass (Jupiter)\", \"radius (Jupiter)\"]])\n",
    "df"
   ]
  },
  {
   "cell_type": "code",
   "execution_count": null,
   "metadata": {},
   "outputs": [],
   "source": [
    "density = df[(\"planet\", \"mass (Jupiter)\")] / df[(\"planet\", \"radius (Jupiter)\")]\n",
    "density"
   ]
  },
  {
   "cell_type": "code",
   "execution_count": null,
   "metadata": {},
   "outputs": [],
   "source": [
    "density.visualize()"
   ]
  },
  {
   "cell_type": "code",
   "execution_count": null,
   "metadata": {},
   "outputs": [],
   "source": [
    "density.compute()"
   ]
  },
  {
   "cell_type": "markdown",
   "metadata": {},
   "source": [
    "<br><br><br><br><br>\n",
    "\n",
    "It works, but the functionality is more limited than Pandas. If you're considering an analysis using Dask DataFrames, _start_ the analysis with Dask DataFrames, so that you don't find out that you depend on something after you've written all of your analysis code.\n",
    "\n",
    "<br><br><br><br><br>"
   ]
  }
 ],
 "metadata": {
  "kernelspec": {
   "display_name": "Python 3",
   "language": "python",
   "name": "python3"
  },
  "language_info": {
   "codemirror_mode": {
    "name": "ipython",
    "version": 3
   },
   "file_extension": ".py",
   "mimetype": "text/x-python",
   "name": "python",
   "nbconvert_exporter": "python",
   "pygments_lexer": "ipython3",
   "version": "3.7.2"
  }
 },
 "nbformat": 4,
 "nbformat_minor": 2
}
